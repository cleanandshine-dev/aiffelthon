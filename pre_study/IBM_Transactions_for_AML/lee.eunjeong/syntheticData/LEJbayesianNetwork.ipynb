{
 "cells": [
  {
   "cell_type": "code",
   "execution_count": null,
   "metadata": {},
   "outputs": [],
   "source": [
    "import pandas as pd\n",
    "import numpy as np\n",
    "import pomegranate as pg\n",
    "from sklearn.preprocessing import MinMaxScaler\n",
    "from sklearn.preprocessing import LabelEncoder\n",
    "\n",
    "# from sdv.evaluation import evaluate\n",
    "# from sdv.metrics import KSTest"
   ]
  },
  {
   "cell_type": "code",
   "execution_count": 1,
   "metadata": {},
   "outputs": [
    {
     "ename": "AttributeError",
     "evalue": "module 'pomegranate' has no attribute 'BayesianNetwork'",
     "output_type": "error",
     "traceback": [
      "\u001b[1;31m---------------------------------------------------------------------------\u001b[0m",
      "\u001b[1;31mAttributeError\u001b[0m                            Traceback (most recent call last)",
      "Cell \u001b[1;32mIn[1], line 47\u001b[0m\n\u001b[0;32m     42\u001b[0m df[\u001b[38;5;124m'\u001b[39m\u001b[38;5;124mAccount.1\u001b[39m\u001b[38;5;124m'\u001b[39m] \u001b[38;5;241m=\u001b[39m label_encoder\u001b[38;5;241m.\u001b[39mfit_transform(df[\u001b[38;5;124m'\u001b[39m\u001b[38;5;124mAccount.1\u001b[39m\u001b[38;5;124m'\u001b[39m])\n\u001b[0;32m     44\u001b[0m \u001b[38;5;66;03m# 9. Bayesian Network 모델 구조 정의 (pomegranate 사용)\u001b[39;00m\n\u001b[0;32m     45\u001b[0m \u001b[38;5;66;03m# 예시: 간단한 모델 구조\u001b[39;00m\n\u001b[0;32m     46\u001b[0m \u001b[38;5;66;03m# (실제 데이터에 맞게 모델 구조를 정의해야 합니다.)\u001b[39;00m\n\u001b[1;32m---> 47\u001b[0m model \u001b[38;5;241m=\u001b[39m \u001b[43mpg\u001b[49m\u001b[38;5;241;43m.\u001b[39;49m\u001b[43mBayesianNetwork\u001b[49m([\n\u001b[0;32m     48\u001b[0m     (\u001b[38;5;124m\"\u001b[39m\u001b[38;5;124mFrom Bank\u001b[39m\u001b[38;5;124m\"\u001b[39m, \u001b[38;5;124m\"\u001b[39m\u001b[38;5;124mAccount\u001b[39m\u001b[38;5;124m\"\u001b[39m),\n\u001b[0;32m     49\u001b[0m     (\u001b[38;5;124m\"\u001b[39m\u001b[38;5;124mTo Bank\u001b[39m\u001b[38;5;124m\"\u001b[39m, \u001b[38;5;124m\"\u001b[39m\u001b[38;5;124mAccount.1\u001b[39m\u001b[38;5;124m\"\u001b[39m),\n\u001b[0;32m     50\u001b[0m     (\u001b[38;5;124m\"\u001b[39m\u001b[38;5;124mAmount Received\u001b[39m\u001b[38;5;124m\"\u001b[39m, \u001b[38;5;124m\"\u001b[39m\u001b[38;5;124mIs Laundering\u001b[39m\u001b[38;5;124m\"\u001b[39m),\n\u001b[0;32m     51\u001b[0m     (\u001b[38;5;124m\"\u001b[39m\u001b[38;5;124mAmount Paid\u001b[39m\u001b[38;5;124m\"\u001b[39m, \u001b[38;5;124m\"\u001b[39m\u001b[38;5;124mIs Laundering\u001b[39m\u001b[38;5;124m\"\u001b[39m),\n\u001b[0;32m     52\u001b[0m     (\u001b[38;5;124m\"\u001b[39m\u001b[38;5;124mAccount\u001b[39m\u001b[38;5;124m\"\u001b[39m, \u001b[38;5;124m\"\u001b[39m\u001b[38;5;124mIs Laundering\u001b[39m\u001b[38;5;124m\"\u001b[39m),\n\u001b[0;32m     53\u001b[0m     (\u001b[38;5;124m\"\u001b[39m\u001b[38;5;124mAccount.1\u001b[39m\u001b[38;5;124m\"\u001b[39m, \u001b[38;5;124m\"\u001b[39m\u001b[38;5;124mIs Laundering\u001b[39m\u001b[38;5;124m\"\u001b[39m)\n\u001b[0;32m     54\u001b[0m ])\n\u001b[0;32m     56\u001b[0m \u001b[38;5;66;03m# 10. 모델 학습\u001b[39;00m\n\u001b[0;32m     57\u001b[0m \u001b[38;5;66;03m# pomegranate는 데이터 타입을 numpy array 형태로 받음\u001b[39;00m\n\u001b[0;32m     58\u001b[0m model \u001b[38;5;241m=\u001b[39m model\u001b[38;5;241m.\u001b[39mfit(df\u001b[38;5;241m.\u001b[39mvalues)\n",
      "\u001b[1;31mAttributeError\u001b[0m: module 'pomegranate' has no attribute 'BayesianNetwork'"
     ]
    }
   ],
   "source": [
    "import pandas as pd\n",
    "import numpy as np\n",
    "import pomegranate as pg\n",
    "from sklearn.preprocessing import MinMaxScaler\n",
    "from sklearn.preprocessing import LabelEncoder\n",
    "\n",
    "# 1. 데이터 로드 및 전처리 \n",
    "pd.set_option('display.max_columns', None)\n",
    "path = '../../../../../archive/raw/HI-Small_Trans.csv'\n",
    "df = pd.read_csv(path)\n",
    "\n",
    "# 2. Timestamp 컬럼을 datetime 객체로 변환 (errors='coerce' 옵션 사용)\n",
    "df['Timestamp'] = pd.to_datetime(df['Timestamp'], format='%Y/%m/%d %H:%M', errors='coerce')\n",
    "\n",
    "# 3. 'Timestamp' 컬럼에서 NaT인 값 (변환 실패한 값)을 NaN으로 대체\n",
    "df['Timestamp'] = df['Timestamp'].replace({pd.NaT: np.nan})\n",
    "\n",
    "# 4. 결측치 처리 (NaN 값을 삭제 또는 대체)\n",
    "df = df.dropna(subset=['Timestamp'])\n",
    "\n",
    "# 5. DataFrame이 비어있는지 확인\n",
    "if df.empty:\n",
    "    print(\"DataFrame is empty after removing rows with missing Timestamp values.\")\n",
    "    # 이후 코드를 실행하지 않도록 처리 (예: return)\n",
    "    exit()\n",
    "\n",
    "# 6. datetime 객체를 Unix timestamp로 변환\n",
    "df['Timestamp'] = df['Timestamp'].astype('int64') // 10**9\n",
    "\n",
    "# (선택 사항) 필요에 따라 스케일링 또는 정규화를 수행\n",
    "# 예: MinMaxScaler를 사용하여 0과 1 사이의 값으로 스케일링\n",
    "scaler = MinMaxScaler()\n",
    "df['Timestamp'] = scaler.fit_transform(df[['Timestamp']])\n",
    "\n",
    "# 7. Object 타입 컬럼 원핫 인코딩 (대상 컬럼 줄이기)\n",
    "# 예: 'Receiving Currency', 'Payment Currency', 'Payment Format' 컬럼만 원핫 인코딩\n",
    "df = pd.get_dummies(df, columns=['Receiving Currency', 'Payment Currency', 'Payment Format'])\n",
    "\n",
    "# 8. 'Account', 'Account.1' 컬럼은 라벨 인코딩\n",
    "label_encoder = LabelEncoder()\n",
    "df['Account'] = label_encoder.fit_transform(df['Account'])\n",
    "df['Account.1'] = label_encoder.fit_transform(df['Account.1'])\n",
    "\n",
    "# 9. Bayesian Network 모델 구조 정의 (pomegranate 사용)\n",
    "# 예시: 간단한 모델 구조\n",
    "# (실제 데이터에 맞게 모델 구조를 정의해야 합니다.)\n",
    "model = pg.BayesianNetwork([\n",
    "    (\"From Bank\", \"Account\"),\n",
    "    (\"To Bank\", \"Account.1\"),\n",
    "    (\"Amount Received\", \"Is Laundering\"),\n",
    "    (\"Amount Paid\", \"Is Laundering\"),\n",
    "    (\"Account\", \"Is Laundering\"),\n",
    "    (\"Account.1\", \"Is Laundering\")\n",
    "])\n",
    "\n",
    "# 10. 모델 학습\n",
    "# pomegranate는 데이터 타입을 numpy array 형태로 받음\n",
    "model = model.fit(df.values)\n",
    "\n",
    "# 11. 샘플 생성\n",
    "num_samples = 1000\n",
    "synthetic_data = []\n",
    "for i in range(num_samples):\n",
    "    synthetic_data.append(model.predict([[None] * df.shape[1]])[0])\n",
    "synthetic_data = np.array(synthetic_data)\n",
    "\n",
    "# numpy array 를 pandas DataFrame으로 변환\n",
    "synthetic_df = pd.DataFrame(synthetic_data, columns=df.columns)\n",
    "\n",
    "# 결과 확인\n",
    "print(synthetic_df.head())"
   ]
  },
  {
   "cell_type": "code",
   "execution_count": null,
   "metadata": {},
   "outputs": [],
   "source": []
  }
 ],
 "metadata": {
  "kernelspec": {
   "display_name": "Python 3",
   "language": "python",
   "name": "python3"
  },
  "language_info": {
   "codemirror_mode": {
    "name": "ipython",
    "version": 3
   },
   "file_extension": ".py",
   "mimetype": "text/x-python",
   "name": "python",
   "nbconvert_exporter": "python",
   "pygments_lexer": "ipython3",
   "version": "3.8.20"
  }
 },
 "nbformat": 4,
 "nbformat_minor": 2
}
