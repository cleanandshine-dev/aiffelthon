{
 "cells": [
  {
   "cell_type": "code",
   "execution_count": 12,
   "metadata": {},
   "outputs": [],
   "source": [
    "import datetime\n",
    "import os\n",
    "from typing import Callable, Optional\n",
    "import pandas as pd\n",
    "from sklearn import preprocessing\n",
    "import numpy as np\n",
    "import torch"
   ]
  },
  {
   "cell_type": "code",
   "execution_count": 13,
   "metadata": {},
   "outputs": [],
   "source": [
    "pd.set_option('display.max_columns', None)\n",
    "path = './archive/HI-Small_Trans.csv'\n",
    "#path = './archive/LI-Small_Trans.csv'\n",
    "df = pd.read_csv(path)"
   ]
  },
  {
   "cell_type": "markdown",
   "metadata": {},
   "source": [
    "# 데이터확인\n",
    "-> 우리의 피쳐 엔지니어링은 더 심오하다!\n",
    "* 계정을 노드로, 거래를 에지로 간주하여 전체 데이터 세트를 노드 분류 문제로 변환할\n",
    "* 의심스러운 계정을 분류하기 위해 모든 거래에서 수신자와 지불자의 모든 계정을 추출"
   ]
  },
  {
   "cell_type": "code",
   "execution_count": 14,
   "metadata": {},
   "outputs": [
    {
     "data": {
      "text/html": [
       "<div>\n",
       "<style scoped>\n",
       "    .dataframe tbody tr th:only-of-type {\n",
       "        vertical-align: middle;\n",
       "    }\n",
       "\n",
       "    .dataframe tbody tr th {\n",
       "        vertical-align: top;\n",
       "    }\n",
       "\n",
       "    .dataframe thead th {\n",
       "        text-align: right;\n",
       "    }\n",
       "</style>\n",
       "<table border=\"1\" class=\"dataframe\">\n",
       "  <thead>\n",
       "    <tr style=\"text-align: right;\">\n",
       "      <th></th>\n",
       "      <th>Timestamp</th>\n",
       "      <th>From Bank</th>\n",
       "      <th>Account</th>\n",
       "      <th>To Bank</th>\n",
       "      <th>Account.1</th>\n",
       "      <th>Amount Received</th>\n",
       "      <th>Receiving Currency</th>\n",
       "      <th>Amount Paid</th>\n",
       "      <th>Payment Currency</th>\n",
       "      <th>Payment Format</th>\n",
       "      <th>Is Laundering</th>\n",
       "    </tr>\n",
       "  </thead>\n",
       "  <tbody>\n",
       "    <tr>\n",
       "      <th>0</th>\n",
       "      <td>2022/09/01 00:20</td>\n",
       "      <td>10</td>\n",
       "      <td>8000EBD30</td>\n",
       "      <td>10</td>\n",
       "      <td>8000EBD30</td>\n",
       "      <td>3697.34</td>\n",
       "      <td>US Dollar</td>\n",
       "      <td>3697.34</td>\n",
       "      <td>US Dollar</td>\n",
       "      <td>Reinvestment</td>\n",
       "      <td>0</td>\n",
       "    </tr>\n",
       "    <tr>\n",
       "      <th>1</th>\n",
       "      <td>2022/09/01 00:20</td>\n",
       "      <td>3208</td>\n",
       "      <td>8000F4580</td>\n",
       "      <td>1</td>\n",
       "      <td>8000F5340</td>\n",
       "      <td>0.01</td>\n",
       "      <td>US Dollar</td>\n",
       "      <td>0.01</td>\n",
       "      <td>US Dollar</td>\n",
       "      <td>Cheque</td>\n",
       "      <td>0</td>\n",
       "    </tr>\n",
       "    <tr>\n",
       "      <th>2</th>\n",
       "      <td>2022/09/01 00:00</td>\n",
       "      <td>3209</td>\n",
       "      <td>8000F4670</td>\n",
       "      <td>3209</td>\n",
       "      <td>8000F4670</td>\n",
       "      <td>14675.57</td>\n",
       "      <td>US Dollar</td>\n",
       "      <td>14675.57</td>\n",
       "      <td>US Dollar</td>\n",
       "      <td>Reinvestment</td>\n",
       "      <td>0</td>\n",
       "    </tr>\n",
       "    <tr>\n",
       "      <th>3</th>\n",
       "      <td>2022/09/01 00:02</td>\n",
       "      <td>12</td>\n",
       "      <td>8000F5030</td>\n",
       "      <td>12</td>\n",
       "      <td>8000F5030</td>\n",
       "      <td>2806.97</td>\n",
       "      <td>US Dollar</td>\n",
       "      <td>2806.97</td>\n",
       "      <td>US Dollar</td>\n",
       "      <td>Reinvestment</td>\n",
       "      <td>0</td>\n",
       "    </tr>\n",
       "    <tr>\n",
       "      <th>4</th>\n",
       "      <td>2022/09/01 00:06</td>\n",
       "      <td>10</td>\n",
       "      <td>8000F5200</td>\n",
       "      <td>10</td>\n",
       "      <td>8000F5200</td>\n",
       "      <td>36682.97</td>\n",
       "      <td>US Dollar</td>\n",
       "      <td>36682.97</td>\n",
       "      <td>US Dollar</td>\n",
       "      <td>Reinvestment</td>\n",
       "      <td>0</td>\n",
       "    </tr>\n",
       "  </tbody>\n",
       "</table>\n",
       "</div>"
      ],
      "text/plain": [
       "          Timestamp  From Bank    Account  To Bank  Account.1  \\\n",
       "0  2022/09/01 00:20         10  8000EBD30       10  8000EBD30   \n",
       "1  2022/09/01 00:20       3208  8000F4580        1  8000F5340   \n",
       "2  2022/09/01 00:00       3209  8000F4670     3209  8000F4670   \n",
       "3  2022/09/01 00:02         12  8000F5030       12  8000F5030   \n",
       "4  2022/09/01 00:06         10  8000F5200       10  8000F5200   \n",
       "\n",
       "   Amount Received Receiving Currency  Amount Paid Payment Currency  \\\n",
       "0          3697.34          US Dollar      3697.34        US Dollar   \n",
       "1             0.01          US Dollar         0.01        US Dollar   \n",
       "2         14675.57          US Dollar     14675.57        US Dollar   \n",
       "3          2806.97          US Dollar      2806.97        US Dollar   \n",
       "4         36682.97          US Dollar     36682.97        US Dollar   \n",
       "\n",
       "  Payment Format  Is Laundering  \n",
       "0   Reinvestment              0  \n",
       "1         Cheque              0  \n",
       "2   Reinvestment              0  \n",
       "3   Reinvestment              0  \n",
       "4   Reinvestment              0  "
      ]
     },
     "execution_count": 14,
     "metadata": {},
     "output_type": "execute_result"
    }
   ],
   "source": [
    "df.head()"
   ]
  },
  {
   "cell_type": "code",
   "execution_count": 15,
   "metadata": {},
   "outputs": [
    {
     "data": {
      "text/plain": [
       "<bound method DataFrame.info of                 Timestamp  From Bank    Account  To Bank  Account.1  \\\n",
       "0        2022/09/01 00:20         10  8000EBD30       10  8000EBD30   \n",
       "1        2022/09/01 00:20       3208  8000F4580        1  8000F5340   \n",
       "2        2022/09/01 00:00       3209  8000F4670     3209  8000F4670   \n",
       "3        2022/09/01 00:02         12  8000F5030       12  8000F5030   \n",
       "4        2022/09/01 00:06         10  8000F5200       10  8000F5200   \n",
       "...                   ...        ...        ...      ...        ...   \n",
       "5078340  2022/09/10 23:57      54219  8148A6631   256398  8148A8711   \n",
       "5078341  2022/09/10 23:35         15  8148A8671   256398  8148A8711   \n",
       "5078342  2022/09/10 23:52     154365  8148A6771   256398  8148A8711   \n",
       "5078343  2022/09/10 23:46     256398  8148A6311   256398  8148A8711   \n",
       "5078344  2022/09/10 23:37     154518  8148A6091   256398  8148A8711   \n",
       "\n",
       "         Amount Received Receiving Currency   Amount Paid Payment Currency  \\\n",
       "0            3697.340000          US Dollar   3697.340000        US Dollar   \n",
       "1               0.010000          US Dollar      0.010000        US Dollar   \n",
       "2           14675.570000          US Dollar  14675.570000        US Dollar   \n",
       "3            2806.970000          US Dollar   2806.970000        US Dollar   \n",
       "4           36682.970000          US Dollar  36682.970000        US Dollar   \n",
       "...                  ...                ...           ...              ...   \n",
       "5078340         0.154978            Bitcoin      0.154978          Bitcoin   \n",
       "5078341         0.108128            Bitcoin      0.108128          Bitcoin   \n",
       "5078342         0.004988            Bitcoin      0.004988          Bitcoin   \n",
       "5078343         0.038417            Bitcoin      0.038417          Bitcoin   \n",
       "5078344         0.281983            Bitcoin      0.281983          Bitcoin   \n",
       "\n",
       "        Payment Format  Is Laundering  \n",
       "0         Reinvestment              0  \n",
       "1               Cheque              0  \n",
       "2         Reinvestment              0  \n",
       "3         Reinvestment              0  \n",
       "4         Reinvestment              0  \n",
       "...                ...            ...  \n",
       "5078340        Bitcoin              0  \n",
       "5078341        Bitcoin              0  \n",
       "5078342        Bitcoin              0  \n",
       "5078343        Bitcoin              0  \n",
       "5078344        Bitcoin              0  \n",
       "\n",
       "[5078345 rows x 11 columns]>"
      ]
     },
     "execution_count": 15,
     "metadata": {},
     "output_type": "execute_result"
    }
   ],
   "source": [
    "df.info"
   ]
  },
  {
   "cell_type": "code",
   "execution_count": 16,
   "metadata": {},
   "outputs": [
    {
     "data": {
      "text/plain": [
       "Timestamp              object\n",
       "From Bank               int64\n",
       "Account                object\n",
       "To Bank                 int64\n",
       "Account.1              object\n",
       "Amount Received       float64\n",
       "Receiving Currency     object\n",
       "Amount Paid           float64\n",
       "Payment Currency       object\n",
       "Payment Format         object\n",
       "Is Laundering           int64\n",
       "dtype: object"
      ]
     },
     "execution_count": 16,
     "metadata": {},
     "output_type": "execute_result"
    }
   ],
   "source": [
    "df.dtypes"
   ]
  },
  {
   "cell_type": "code",
   "execution_count": 17,
   "metadata": {},
   "outputs": [
    {
     "data": {
      "text/plain": [
       "Timestamp             0\n",
       "From Bank             0\n",
       "Account               0\n",
       "To Bank               0\n",
       "Account.1             0\n",
       "Amount Received       0\n",
       "Receiving Currency    0\n",
       "Amount Paid           0\n",
       "Payment Currency      0\n",
       "Payment Format        0\n",
       "Is Laundering         0\n",
       "dtype: int64"
      ]
     },
     "execution_count": 17,
     "metadata": {},
     "output_type": "execute_result"
    }
   ],
   "source": [
    "df.isnull().sum()"
   ]
  },
  {
   "cell_type": "markdown",
   "metadata": {},
   "source": [
    "각 거래의 지불 및 수신 금액을 나타내는 두 개의 열이 있는데, 서로 다른 통화 간의 거래 수수료/거래가 아닌 한, 같은 값을 공유할 때 금액을 두 개의 열로 분할해야 하는지."
   ]
  },
  {
   "cell_type": "code",
   "execution_count": 18,
   "metadata": {},
   "outputs": [
    {
     "name": "stdout",
     "output_type": "stream",
     "text": [
      "Amount Received equals to Amount Paid:\n",
      "False\n",
      "Receiving Currency equals to Payment Currency:\n",
      "False\n"
     ]
    }
   ],
   "source": [
    "print('Amount Received equals to Amount Paid:')\n",
    "print(df['Amount Received'].equals(df['Amount Paid']))\n",
    "print('Receiving Currency equals to Payment Currency:')\n",
    "print(df['Receiving Currency'].equals(df['Payment Currency']))"
   ]
  },
  {
   "cell_type": "markdown",
   "metadata": {},
   "source": [
    "* 다양한 거래가 포함 되어 있다고.\n",
    "* Currency가 틀리면, 입출금 되는 금액이 틀릴 수 있지."
   ]
  },
  {
   "cell_type": "code",
   "execution_count": 19,
   "metadata": {},
   "outputs": [
    {
     "name": "stdout",
     "output_type": "stream",
     "text": [
      "                Timestamp  From Bank    Account  To Bank  Account.1  \\\n",
      "1173     2022/09/01 00:22       1362  80030A870     1362  80030A870   \n",
      "7156     2022/09/01 00:28      11318  800C51010    11318  800C51010   \n",
      "7925     2022/09/01 00:12        795  800D98770      795  800D98770   \n",
      "8467     2022/09/01 00:01       1047  800E92CF0     1047  800E92CF0   \n",
      "11529    2022/09/01 00:22      11157  80135FFC0    11157  80135FFC0   \n",
      "...                   ...        ...        ...      ...        ...   \n",
      "5078167  2022/09/10 23:30      23537  803949A90    23537  803949A90   \n",
      "5078234  2022/09/10 23:59      16163  803638A90    16163  803638A90   \n",
      "5078236  2022/09/10 23:55      16163  803638A90    16163  803638A90   \n",
      "5078316  2022/09/10 23:44     215064  808F06E11   215064  808F06E10   \n",
      "5078318  2022/09/10 23:45     215064  808F06E11   215064  808F06E10   \n",
      "\n",
      "         Amount Received Receiving Currency  Amount Paid Payment Currency  \\\n",
      "1173           52.110000               Euro        61.06        US Dollar   \n",
      "7156           76.060000               Euro        89.12        US Dollar   \n",
      "7925           17.690000  Australian Dollar        12.52        US Dollar   \n",
      "8467           19.430000               Euro        22.77        US Dollar   \n",
      "11529          98.340000               Euro       115.24        US Dollar   \n",
      "...                  ...                ...          ...              ...   \n",
      "5078167     26421.500000             Shekel      7823.96        US Dollar   \n",
      "5078234     47517.490000        Saudi Riyal     12667.62        US Dollar   \n",
      "5078236     11329.850000        Saudi Riyal      3020.41        US Dollar   \n",
      "5078316         0.000006            Bitcoin         0.07        US Dollar   \n",
      "5078318         0.000004            Bitcoin         0.05        US Dollar   \n",
      "\n",
      "        Payment Format  Is Laundering  \n",
      "1173               ACH              0  \n",
      "7156               ACH              0  \n",
      "7925               ACH              0  \n",
      "8467               ACH              0  \n",
      "11529              ACH              0  \n",
      "...                ...            ...  \n",
      "5078167            ACH              0  \n",
      "5078234            ACH              0  \n",
      "5078236            ACH              0  \n",
      "5078316            ACH              0  \n",
      "5078318           Wire              0  \n",
      "\n",
      "[72158 rows x 11 columns]\n"
     ]
    }
   ],
   "source": [
    "not_equal1 = df.loc[~(df['Amount Received'] == df['Amount Paid'])]  # ~ not\n",
    "print(not_equal1)"
   ]
  },
  {
   "cell_type": "code",
   "execution_count": 20,
   "metadata": {},
   "outputs": [
    {
     "name": "stdout",
     "output_type": "stream",
     "text": [
      "                Timestamp  From Bank    Account  To Bank  Account.1  \\\n",
      "1173     2022/09/01 00:22       1362  80030A870     1362  80030A870   \n",
      "7156     2022/09/01 00:28      11318  800C51010    11318  800C51010   \n",
      "7925     2022/09/01 00:12        795  800D98770      795  800D98770   \n",
      "8467     2022/09/01 00:01       1047  800E92CF0     1047  800E92CF0   \n",
      "11529    2022/09/01 00:22      11157  80135FFC0    11157  80135FFC0   \n",
      "...                   ...        ...        ...      ...        ...   \n",
      "5078167  2022/09/10 23:30      23537  803949A90    23537  803949A90   \n",
      "5078234  2022/09/10 23:59      16163  803638A90    16163  803638A90   \n",
      "5078236  2022/09/10 23:55      16163  803638A90    16163  803638A90   \n",
      "5078316  2022/09/10 23:44     215064  808F06E11   215064  808F06E10   \n",
      "5078318  2022/09/10 23:45     215064  808F06E11   215064  808F06E10   \n",
      "\n",
      "         Amount Received Receiving Currency  Amount Paid Payment Currency  \\\n",
      "1173           52.110000               Euro        61.06        US Dollar   \n",
      "7156           76.060000               Euro        89.12        US Dollar   \n",
      "7925           17.690000  Australian Dollar        12.52        US Dollar   \n",
      "8467           19.430000               Euro        22.77        US Dollar   \n",
      "11529          98.340000               Euro       115.24        US Dollar   \n",
      "...                  ...                ...          ...              ...   \n",
      "5078167     26421.500000             Shekel      7823.96        US Dollar   \n",
      "5078234     47517.490000        Saudi Riyal     12667.62        US Dollar   \n",
      "5078236     11329.850000        Saudi Riyal      3020.41        US Dollar   \n",
      "5078316         0.000006            Bitcoin         0.07        US Dollar   \n",
      "5078318         0.000004            Bitcoin         0.05        US Dollar   \n",
      "\n",
      "        Payment Format  Is Laundering  \n",
      "1173               ACH              0  \n",
      "7156               ACH              0  \n",
      "7925               ACH              0  \n",
      "8467               ACH              0  \n",
      "11529              ACH              0  \n",
      "...                ...            ...  \n",
      "5078167            ACH              0  \n",
      "5078234            ACH              0  \n",
      "5078236            ACH              0  \n",
      "5078316            ACH              0  \n",
      "5078318           Wire              0  \n",
      "\n",
      "[72170 rows x 11 columns]\n"
     ]
    }
   ],
   "source": [
    "not_equal2 = df.loc[~(df['Receiving Currency'] == df['Payment Currency'])] # ~ not\n",
    "print(not_equal2)"
   ]
  },
  {
   "cell_type": "code",
   "execution_count": 21,
   "metadata": {},
   "outputs": [
    {
     "name": "stdout",
     "output_type": "stream",
     "text": [
      "144328\n"
     ]
    }
   ],
   "source": [
    "print(72158+72170)"
   ]
  },
  {
   "cell_type": "markdown",
   "metadata": {},
   "source": [
    "* 두 df의 데이터는 거래 수수료와 다른 통화 간의 거래가 있으므로, 금액 열을 결합/삭제할 수 없음.\n",
    "\n",
    "* 열을 인코딩할 것이므로 동일한 속성의 클래스가 정렬되어 있는지 확인해야 함. \n",
    "* 수신 통화와 지불 통화 목록이 동일한지 확인 -> 동일"
   ]
  },
  {
   "cell_type": "code",
   "execution_count": 22,
   "metadata": {},
   "outputs": [
    {
     "data": {
      "text/plain": [
       "['Australian Dollar',\n",
       " 'Bitcoin',\n",
       " 'Brazil Real',\n",
       " 'Canadian Dollar',\n",
       " 'Euro',\n",
       " 'Mexican Peso',\n",
       " 'Ruble',\n",
       " 'Rupee',\n",
       " 'Saudi Riyal',\n",
       " 'Shekel',\n",
       " 'Swiss Franc',\n",
       " 'UK Pound',\n",
       " 'US Dollar',\n",
       " 'Yen',\n",
       " 'Yuan']"
      ]
     },
     "execution_count": 22,
     "metadata": {},
     "output_type": "execute_result"
    }
   ],
   "source": [
    "sorted(df['Receiving Currency'].unique())"
   ]
  },
  {
   "cell_type": "code",
   "execution_count": 23,
   "metadata": {},
   "outputs": [
    {
     "data": {
      "text/plain": [
       "['Australian Dollar',\n",
       " 'Bitcoin',\n",
       " 'Brazil Real',\n",
       " 'Canadian Dollar',\n",
       " 'Euro',\n",
       " 'Mexican Peso',\n",
       " 'Ruble',\n",
       " 'Rupee',\n",
       " 'Saudi Riyal',\n",
       " 'Shekel',\n",
       " 'Swiss Franc',\n",
       " 'UK Pound',\n",
       " 'US Dollar',\n",
       " 'Yen',\n",
       " 'Yuan']"
      ]
     },
     "execution_count": 23,
     "metadata": {},
     "output_type": "execute_result"
    }
   ],
   "source": [
    "sorted(df['Payment Currency'].unique())"
   ]
  },
  {
   "cell_type": "markdown",
   "metadata": {},
   "source": [
    "# 데이터 전처리\n",
    "\n",
    "- PyG 데이터셋에서 사용되는 함수를 소개\n",
    "- 데이터셋과 모델 학습은 하단 섹션에서 제공\n",
    "\n",
    "1. 최소 최대 정규화로 타임스탬프를 변환.\n",
    "2. 계좌 번호와 함께 은행 코드를 추가하여 각 계좌에 대한 고유 ID를 만듦.\n",
    "3. 수신 계좌, 수신 금액 및 통화의 정보로 receiving_df를 만듦.\n",
    "4. 지불자 계좌, 지불 금액 및 통화의 정보로 paying_df를 만듦.\n",
    "5. 모든 거래에서 사용된 통화 목록을 만듦.\n",
    "6. sklearn LabelEncoder로 클래스별로 'Payment Format', 'Payment Currency', 'Receiving Currency'에 레이블을 지정."
   ]
  },
  {
   "cell_type": "code",
   "execution_count": 24,
   "metadata": {},
   "outputs": [],
   "source": [
    "def df_label_encoder(df, columns):\n",
    "        le = preprocessing.LabelEncoder()\n",
    "        for i in columns:\n",
    "            df[i] = le.fit_transform(df[i].astype(str))\n",
    "        return df\n",
    "\n",
    "def preprocess(df):\n",
    "        df = df_label_encoder(df,['Payment Format', 'Payment Currency', 'Receiving Currency'])\n",
    "        df['Timestamp'] = pd.to_datetime(df['Timestamp'])\n",
    "        df['Timestamp'] = df['Timestamp'].apply(lambda x: x.value)\n",
    "        df['Timestamp'] = (df['Timestamp']-df['Timestamp'].min())/(df['Timestamp'].max()-df['Timestamp'].min()) # Timestamp 를 0~1 사이 값으로 정규화 함\n",
    "\n",
    "        df['Account'] = df['From Bank'].astype(str) + '_' + df['Account']\n",
    "        df['Account.1'] = df['To Bank'].astype(str) + '_' + df['Account.1']\n",
    "        df = df.sort_values(by=['Account'])  ## by 정렬의 기준이 되는 열을 지정\n",
    "\n",
    "        receiving_df = df[['Account.1', 'Amount Received', 'Receiving Currency']]\n",
    "        paying_df = df[['Account', 'Amount Paid', 'Payment Currency']]\n",
    "\n",
    "        receiving_df = receiving_df.rename({'Account.1': 'Account'}, axis=1)\n",
    "        \n",
    "        currency_ls = sorted(df['Receiving Currency'].unique())\n",
    "\n",
    "        return df, receiving_df, paying_df, currency_ls"
   ]
  },
  {
   "cell_type": "code",
   "execution_count": 25,
   "metadata": {},
   "outputs": [],
   "source": [
    "df, receiving_df, paying_df, currency_ls = preprocess(df = df)"
   ]
  },
  {
   "cell_type": "code",
   "execution_count": 26,
   "metadata": {},
   "outputs": [
    {
     "data": {
      "text/html": [
       "<div>\n",
       "<style scoped>\n",
       "    .dataframe tbody tr th:only-of-type {\n",
       "        vertical-align: middle;\n",
       "    }\n",
       "\n",
       "    .dataframe tbody tr th {\n",
       "        vertical-align: top;\n",
       "    }\n",
       "\n",
       "    .dataframe thead th {\n",
       "        text-align: right;\n",
       "    }\n",
       "</style>\n",
       "<table border=\"1\" class=\"dataframe\">\n",
       "  <thead>\n",
       "    <tr style=\"text-align: right;\">\n",
       "      <th></th>\n",
       "      <th>Timestamp</th>\n",
       "      <th>From Bank</th>\n",
       "      <th>Account</th>\n",
       "      <th>To Bank</th>\n",
       "      <th>Account.1</th>\n",
       "      <th>Amount Received</th>\n",
       "      <th>Receiving Currency</th>\n",
       "      <th>Amount Paid</th>\n",
       "      <th>Payment Currency</th>\n",
       "      <th>Payment Format</th>\n",
       "      <th>Is Laundering</th>\n",
       "    </tr>\n",
       "  </thead>\n",
       "  <tbody>\n",
       "    <tr>\n",
       "      <th>4278714</th>\n",
       "      <td>0.456320</td>\n",
       "      <td>10057</td>\n",
       "      <td>10057_803A115E0</td>\n",
       "      <td>29467</td>\n",
       "      <td>29467_803E020C0</td>\n",
       "      <td>787197.11</td>\n",
       "      <td>13</td>\n",
       "      <td>787197.11</td>\n",
       "      <td>13</td>\n",
       "      <td>3</td>\n",
       "      <td>0</td>\n",
       "    </tr>\n",
       "    <tr>\n",
       "      <th>2798190</th>\n",
       "      <td>0.285018</td>\n",
       "      <td>10057</td>\n",
       "      <td>10057_803A115E0</td>\n",
       "      <td>29467</td>\n",
       "      <td>29467_803E020C0</td>\n",
       "      <td>787197.11</td>\n",
       "      <td>13</td>\n",
       "      <td>787197.11</td>\n",
       "      <td>13</td>\n",
       "      <td>3</td>\n",
       "      <td>0</td>\n",
       "    </tr>\n",
       "    <tr>\n",
       "      <th>2798191</th>\n",
       "      <td>0.284233</td>\n",
       "      <td>10057</td>\n",
       "      <td>10057_803A115E0</td>\n",
       "      <td>29467</td>\n",
       "      <td>29467_803E020C0</td>\n",
       "      <td>681262.19</td>\n",
       "      <td>13</td>\n",
       "      <td>681262.19</td>\n",
       "      <td>13</td>\n",
       "      <td>4</td>\n",
       "      <td>0</td>\n",
       "    </tr>\n",
       "    <tr>\n",
       "      <th>3918769</th>\n",
       "      <td>0.417079</td>\n",
       "      <td>10057</td>\n",
       "      <td>10057_803A115E0</td>\n",
       "      <td>29467</td>\n",
       "      <td>29467_803E020C0</td>\n",
       "      <td>681262.19</td>\n",
       "      <td>13</td>\n",
       "      <td>681262.19</td>\n",
       "      <td>13</td>\n",
       "      <td>4</td>\n",
       "      <td>0</td>\n",
       "    </tr>\n",
       "    <tr>\n",
       "      <th>213094</th>\n",
       "      <td>0.000746</td>\n",
       "      <td>10057</td>\n",
       "      <td>10057_803A115E0</td>\n",
       "      <td>10057</td>\n",
       "      <td>10057_803A115E0</td>\n",
       "      <td>146954.27</td>\n",
       "      <td>13</td>\n",
       "      <td>146954.27</td>\n",
       "      <td>13</td>\n",
       "      <td>5</td>\n",
       "      <td>0</td>\n",
       "    </tr>\n",
       "  </tbody>\n",
       "</table>\n",
       "</div>"
      ],
      "text/plain": [
       "         Timestamp  From Bank          Account  To Bank        Account.1  \\\n",
       "4278714   0.456320      10057  10057_803A115E0    29467  29467_803E020C0   \n",
       "2798190   0.285018      10057  10057_803A115E0    29467  29467_803E020C0   \n",
       "2798191   0.284233      10057  10057_803A115E0    29467  29467_803E020C0   \n",
       "3918769   0.417079      10057  10057_803A115E0    29467  29467_803E020C0   \n",
       "213094    0.000746      10057  10057_803A115E0    10057  10057_803A115E0   \n",
       "\n",
       "         Amount Received  Receiving Currency  Amount Paid  Payment Currency  \\\n",
       "4278714        787197.11                  13    787197.11                13   \n",
       "2798190        787197.11                  13    787197.11                13   \n",
       "2798191        681262.19                  13    681262.19                13   \n",
       "3918769        681262.19                  13    681262.19                13   \n",
       "213094         146954.27                  13    146954.27                13   \n",
       "\n",
       "         Payment Format  Is Laundering  \n",
       "4278714               3              0  \n",
       "2798190               3              0  \n",
       "2798191               4              0  \n",
       "3918769               4              0  \n",
       "213094                5              0  "
      ]
     },
     "execution_count": 26,
     "metadata": {},
     "output_type": "execute_result"
    }
   ],
   "source": [
    "df.head()"
   ]
  },
  {
   "cell_type": "code",
   "execution_count": 29,
   "metadata": {},
   "outputs": [
    {
     "data": {
      "text/html": [
       "<div>\n",
       "<style scoped>\n",
       "    .dataframe tbody tr th:only-of-type {\n",
       "        vertical-align: middle;\n",
       "    }\n",
       "\n",
       "    .dataframe tbody tr th {\n",
       "        vertical-align: top;\n",
       "    }\n",
       "\n",
       "    .dataframe thead th {\n",
       "        text-align: right;\n",
       "    }\n",
       "</style>\n",
       "<table border=\"1\" class=\"dataframe\">\n",
       "  <thead>\n",
       "    <tr style=\"text-align: right;\">\n",
       "      <th></th>\n",
       "      <th>Account</th>\n",
       "      <th>Amount Received</th>\n",
       "      <th>Receiving Currency</th>\n",
       "    </tr>\n",
       "  </thead>\n",
       "  <tbody>\n",
       "    <tr>\n",
       "      <th>4278714</th>\n",
       "      <td>29467_803E020C0</td>\n",
       "      <td>787197.11</td>\n",
       "      <td>13</td>\n",
       "    </tr>\n",
       "    <tr>\n",
       "      <th>2798190</th>\n",
       "      <td>29467_803E020C0</td>\n",
       "      <td>787197.11</td>\n",
       "      <td>13</td>\n",
       "    </tr>\n",
       "    <tr>\n",
       "      <th>2798191</th>\n",
       "      <td>29467_803E020C0</td>\n",
       "      <td>681262.19</td>\n",
       "      <td>13</td>\n",
       "    </tr>\n",
       "    <tr>\n",
       "      <th>3918769</th>\n",
       "      <td>29467_803E020C0</td>\n",
       "      <td>681262.19</td>\n",
       "      <td>13</td>\n",
       "    </tr>\n",
       "    <tr>\n",
       "      <th>213094</th>\n",
       "      <td>10057_803A115E0</td>\n",
       "      <td>146954.27</td>\n",
       "      <td>13</td>\n",
       "    </tr>\n",
       "  </tbody>\n",
       "</table>\n",
       "</div>"
      ],
      "text/plain": [
       "                 Account  Amount Received  Receiving Currency\n",
       "4278714  29467_803E020C0        787197.11                  13\n",
       "2798190  29467_803E020C0        787197.11                  13\n",
       "2798191  29467_803E020C0        681262.19                  13\n",
       "3918769  29467_803E020C0        681262.19                  13\n",
       "213094   10057_803A115E0        146954.27                  13"
      ]
     },
     "metadata": {},
     "output_type": "display_data"
    },
    {
     "data": {
      "text/html": [
       "<div>\n",
       "<style scoped>\n",
       "    .dataframe tbody tr th:only-of-type {\n",
       "        vertical-align: middle;\n",
       "    }\n",
       "\n",
       "    .dataframe tbody tr th {\n",
       "        vertical-align: top;\n",
       "    }\n",
       "\n",
       "    .dataframe thead th {\n",
       "        text-align: right;\n",
       "    }\n",
       "</style>\n",
       "<table border=\"1\" class=\"dataframe\">\n",
       "  <thead>\n",
       "    <tr style=\"text-align: right;\">\n",
       "      <th></th>\n",
       "      <th>Account</th>\n",
       "      <th>Amount Paid</th>\n",
       "      <th>Payment Currency</th>\n",
       "    </tr>\n",
       "  </thead>\n",
       "  <tbody>\n",
       "    <tr>\n",
       "      <th>4278714</th>\n",
       "      <td>10057_803A115E0</td>\n",
       "      <td>787197.11</td>\n",
       "      <td>13</td>\n",
       "    </tr>\n",
       "    <tr>\n",
       "      <th>2798190</th>\n",
       "      <td>10057_803A115E0</td>\n",
       "      <td>787197.11</td>\n",
       "      <td>13</td>\n",
       "    </tr>\n",
       "    <tr>\n",
       "      <th>2798191</th>\n",
       "      <td>10057_803A115E0</td>\n",
       "      <td>681262.19</td>\n",
       "      <td>13</td>\n",
       "    </tr>\n",
       "    <tr>\n",
       "      <th>3918769</th>\n",
       "      <td>10057_803A115E0</td>\n",
       "      <td>681262.19</td>\n",
       "      <td>13</td>\n",
       "    </tr>\n",
       "    <tr>\n",
       "      <th>213094</th>\n",
       "      <td>10057_803A115E0</td>\n",
       "      <td>146954.27</td>\n",
       "      <td>13</td>\n",
       "    </tr>\n",
       "  </tbody>\n",
       "</table>\n",
       "</div>"
      ],
      "text/plain": [
       "                 Account  Amount Paid  Payment Currency\n",
       "4278714  10057_803A115E0    787197.11                13\n",
       "2798190  10057_803A115E0    787197.11                13\n",
       "2798191  10057_803A115E0    681262.19                13\n",
       "3918769  10057_803A115E0    681262.19                13\n",
       "213094   10057_803A115E0    146954.27                13"
      ]
     },
     "metadata": {},
     "output_type": "display_data"
    },
    {
     "data": {
      "text/plain": [
       "[0, 1, 2, 3, 4, 5, 6, 7, 8, 9, 10, 11, 12, 13, 14]"
      ]
     },
     "metadata": {},
     "output_type": "display_data"
    }
   ],
   "source": [
    "display(receiving_df.head())\n",
    "display(paying_df.head())\n",
    "display(currency_ls)"
   ]
  },
  {
   "cell_type": "code",
   "execution_count": null,
   "metadata": {},
   "outputs": [],
   "source": []
  },
  {
   "cell_type": "markdown",
   "metadata": {},
   "source": [
    "# 데이터 전처리"
   ]
  },
  {
   "cell_type": "code",
   "execution_count": null,
   "metadata": {},
   "outputs": [],
   "source": [
    "|"
   ]
  }
 ],
 "metadata": {
  "kernelspec": {
   "display_name": "Python 3",
   "language": "python",
   "name": "python3"
  },
  "language_info": {
   "codemirror_mode": {
    "name": "ipython",
    "version": 3
   },
   "file_extension": ".py",
   "mimetype": "text/x-python",
   "name": "python",
   "nbconvert_exporter": "python",
   "pygments_lexer": "ipython3",
   "version": "3.8.20"
  }
 },
 "nbformat": 4,
 "nbformat_minor": 2
}
