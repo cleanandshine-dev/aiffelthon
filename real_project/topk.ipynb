import numpy as np
import matplotlib.pyplot as plt
import seaborn as sns
from sklearn.metrics import precision_score, recall_score

# **🔹 1. 저장된 예측값 로드**
all_preds = np.load("all_preds.npy")
all_labels = np.load("all_labels.npy")

# **🔹 2. 탐지 개수별 평가 함수**
def top_k_evaluation(y_true, y_score, daily_k=10, days=30):
    """
    - 매일 daily_k건을 탐지한다고 가정
    - 전체 시뮬레이션 기간 (30일)
    """
    top_k_total = daily_k * days  # 전체 기간 동안 탐지할 건수
    top_k_indices = np.argsort(y_score)[-top_k_total:]  # 상위 K개 인덱스 선택
    
    y_top_k_pred = np.zeros_like(y_score)
    y_top_k_pred[top_k_indices] = 1  # 선택된 건수만 1 (탐지)

    precision = precision_score(y_true, y_top_k_pred)
    recall = recall_score(y_true, y_top_k_pred)

    print(f"[Daily {daily_k}건 탐지] 총 {top_k_total}건 기준 - Precision: {precision:.4f}, Recall: {recall:.4f}")
    return precision, recall

# **🔹 3. 다양한 탐지 개수 실험**
top_k_evaluation(all_labels, all_preds, daily_k=10, days=30)
top_k_evaluation(all_labels, all_preds, daily_k=30, days=30)
top_k_evaluation(all_labels, all_preds, daily_k=50, days=30)
top_k_evaluation(all_labels, all_preds, daily_k=100, days=30)

# **🔹 4. 예측 점수 분포 시각화**
def plot_score_distribution(y_score):
    """ 모델이 출력한 스코어(확률) 분포 시각화 """
    plt.figure(figsize=(8, 5))
    sns.histplot(y_score, bins=50, kde=True)
    plt.xlabel("Predicted Score (Model Output)")
    plt.ylabel("Frequency")
    plt.title("Distribution of Model Scores (0 to 1)")
    plt.show()

# **🔹 5. 실행**
plot_score_distribution(all_preds)
